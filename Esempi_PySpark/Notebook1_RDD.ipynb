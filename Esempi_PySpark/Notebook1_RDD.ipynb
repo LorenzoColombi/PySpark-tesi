{
 "metadata": {
  "language_info": {
   "codemirror_mode": {
    "name": "ipython",
    "version": 3
   },
   "file_extension": ".py",
   "mimetype": "text/x-python",
   "name": "python",
   "nbconvert_exporter": "python",
   "pygments_lexer": "ipython3",
   "version": "3.9.5"
  },
  "orig_nbformat": 4,
  "kernelspec": {
   "name": "python3",
   "display_name": "Python 3.9.5 64-bit"
  },
  "interpreter": {
   "hash": "916dbcbb3f70747c44a77c7bcd40155683ae19c65e1c03b4aa3499c5328201f1"
  }
 },
 "nbformat": 4,
 "nbformat_minor": 2,
 "cells": [
  {
   "cell_type": "code",
   "execution_count": 199,
   "metadata": {},
   "outputs": [],
   "source": [
    "import pyspark as pys \n",
    "from pyspark.sql import SparkSession\n",
    "from pyspark import SparkContext, SparkConf\n",
    "# #Spark Config (chiamare una volta sola)\n",
    "conf = SparkConf().setAppName(\"learning RDD\")\n",
    "#sc = SparkContext(conf=conf) \n",
    "spark = SparkSession.builder.getOrCreate()"
   ]
  },
  {
   "cell_type": "code",
   "execution_count": 200,
   "metadata": {},
   "outputs": [
    {
     "output_type": "execute_result",
     "data": {
      "text/plain": [
       "[('Mike', 19), ('June', 18), ('Rachel', 16), ('Rob', 18), ('Scott', 17)]"
      ]
     },
     "metadata": {},
     "execution_count": 200
    }
   ],
   "source": [
    "#Creazione RDD con metodo parallelize\n",
    "myRDD = sc.parallelize([('Mike', 19), ('June', 18), ('Rachel',16), ('Rob', 18),\n",
    "('Scott', 17)])\n",
    "myRDD.take(5)"
   ]
  },
  {
   "cell_type": "code",
   "execution_count": 201,
   "metadata": {},
   "outputs": [
    {
     "output_type": "execute_result",
     "data": {
      "text/plain": [
       "527"
      ]
     },
     "metadata": {},
     "execution_count": 201
    }
   ],
   "source": [
    "#Creazione RDD da file TXT\n",
    "#/home/lorenzo/Documenti/Tesi/learningPySpark/Chapter03/flight-data\n",
    "myRDD2 = sc.textFile(\"./learningPySpark/Chapter03/flight-data/airport-codes-na.txt\", minPartitions=1,use_unicode=True).map(lambda element: element.split(\"\\t\"))\n",
    "myRDD2.take(5) #leggo i primi 5 elementi del RDD\n",
    "\n",
    "myRDD2.getNumPartitions() #leggo il numero di partizioni\n",
    "myRDD2.count() #Numero di elementi del RDD"
   ]
  },
  {
   "cell_type": "code",
   "execution_count": 202,
   "metadata": {},
   "outputs": [],
   "source": [
    "#Creo RDD airport leggendo il file airport-codes-na.txt\n",
    "airports = sc.textFile(\"./learningPySpark/Chapter03/flight-data/airport-codes-na.txt\").map(lambda element: element.split(\"\\t\"))\n",
    "\n",
    "#Credo RDD flight leggendo il file departuredelays.csv (splitto con ,)\n",
    "flight = sc.textFile(\"./learningPySpark/Chapter03/flight-data/departuredelays.csv\").map(lambda element: element.split(\",\"))"
   ]
  },
  {
   "cell_type": "code",
   "execution_count": 129,
   "metadata": {},
   "outputs": [
    {
     "output_type": "execute_result",
     "data": {
      "text/plain": [
       "8"
      ]
     },
     "metadata": {},
     "execution_count": 129
    }
   ],
   "source": [
    "#TRASFORMAZIONI\n",
    "\n",
    "\n",
    "\n",
    "#map(f) passa ogni elemento attraverso f\n",
    "flight2col=flight.map(lambda c: (c[0],c[1])) #prendo i primi 2 elementi\n",
    "\n",
    "#filter(f) selezione gli elementi per i quali f ritorna true\n",
    "airportsWA = airports.filter(lambda c: c[1] == \"WA\") #filtro gli elementi che hanno la seconda colonna ==WA\n",
    "\n",
    "#Distinct\n",
    "airportsD = airports.map(lambda c: c[2]).distinct()\n",
    "\n",
    "#Sample (campionamento)\n",
    "airportsS=airports.sample(False,1,1323)\n",
    "\n",
    "#Repartiton (ripartizione in diverse partizioni)\n",
    "airports.getNumPartitions() # =2\n",
    "airportsR = airports.repartition(8)\n",
    "airportsR.getNumPartitions() #=8\n",
    "\n",
    "#.zipWithIndex()\n",
    "\n"
   ]
  },
  {
   "cell_type": "code",
   "execution_count": 203,
   "metadata": {},
   "outputs": [
    {
     "output_type": "stream",
     "name": "stderr",
     "text": []
    },
    {
     "output_type": "execute_result",
     "data": {
      "text/plain": [
       "[('ABE', ('01011245', 'PA')),\n",
       " ('ABE', ('01020600', 'PA')),\n",
       " ('ABE', ('01021245', 'PA')),\n",
       " ('ABE', ('01020605', 'PA')),\n",
       " ('ABE', ('01031245', 'PA'))]"
      ]
     },
     "metadata": {},
     "execution_count": 203
    }
   ],
   "source": [
    "#Join (separato dagli altri perché dispendioso da eseguire)\n",
    "flt = flight.map(lambda c: (c[3],c[0])) #c[3] = nome aeroporto\n",
    "air = airports.map(lambda c: (c[3],c[1]))\n",
    "\n",
    "flt.join(air).take(5)"
   ]
  },
  {
   "cell_type": "code",
   "execution_count": 148,
   "metadata": {},
   "outputs": [
    {
     "output_type": "stream",
     "name": "stderr",
     "text": [
      "[('ABE', 5113), ('ACT', 392), ('ACV', 8429), ('ADQ', -254), ('AEX', 10193)]\n"
     ]
    }
   ],
   "source": [
    "#reduceByKey(f) + pipelining\n",
    "#Raggruppo sul campo chiave (aereoporto di partenza) sommando il ritardo\n",
    "myList=(\n",
    "    flight\n",
    "    .zipWithIndex()\n",
    "    .filter(lambda c: c[1]>0) #elimino intestazione\n",
    "    .map(lambda c: c[0]) #elimino indice\n",
    "    #c[3] = aeroporto di partenza, c[1] = ritardo\n",
    "    .map(lambda c: (c[3], int(c[1]))) #CAST A INTERO PER SOMMA\n",
    "    .reduceByKey(lambda x,y:x+y)\n",
    "    .take(5)\n",
    ")\n",
    "print(myList)\n",
    "#print(myList[0][1])"
   ]
  },
  {
   "cell_type": "code",
   "execution_count": 189,
   "metadata": {},
   "outputs": [
    {
     "output_type": "stream",
     "name": "stderr",
     "text": []
    },
    {
     "output_type": "execute_result",
     "data": {
      "text/plain": [
       "1391579"
      ]
     },
     "metadata": {},
     "execution_count": 189
    }
   ],
   "source": [
    "#AZIONI\n",
    "#lettura dataset\n",
    "flight.take(5) #ritorn i primi 5 elementi\n",
    "#flight.collect() #ritorna tutto il dataset (meglio non usare)\n",
    "\n",
    "#operazioni di aggregazione\n",
    "#Filtro voli da SEA a SFO\n",
    "#Leggo il valore facendo il casting a INT\n",
    "#Ottengo la somma \n",
    "flight\\\n",
    ".filter(lambda c: c[3]==\"SEA\" and c[4]==\"SFO\")\\\n",
    ".map(lambda c: int(c[1]))\\\n",
    ".reduce(lambda x,y: x+y)\n",
    "\n",
    "flight.count()\n",
    "\n"
   ]
  },
  {
   "cell_type": "code",
   "execution_count": 194,
   "metadata": {},
   "outputs": [],
   "source": [
    "#saveAsTextFile\n",
    "#un file per ogni partizione\n",
    "airports.getNumPartitions() # = 2\n",
    "airports.saveAsTextFile(\"/tmp/airports\")"
   ]
  },
  {
   "cell_type": "code",
   "execution_count": null,
   "metadata": {},
   "outputs": [],
   "source": []
  }
 ]
}